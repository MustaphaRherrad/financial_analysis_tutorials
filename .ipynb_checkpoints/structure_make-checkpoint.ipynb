{
 "cells": [
  {
   "cell_type": "code",
   "execution_count": 1,
   "id": "ee1b3b82-9030-41d3-b636-5451c6829ca9",
   "metadata": {},
   "outputs": [
    {
     "name": "stdout",
     "output_type": "stream",
     "text": [
      "Structure créée avec succès ✅\n"
     ]
    }
   ],
   "source": [
    "import os\n",
    "\n",
    "# Dossier racine\n",
    "root = \"financial_analysis_tutorials\"\n",
    "\n",
    "# Structure des dossiers et des fichiers markdown\n",
    "structure = {\n",
    "    \"01_Introduction\": [\n",
    "        \"01_notions_de_base_comptables.md\",\n",
    "        \"02_documents_financiers.md\",\n",
    "        \"03_indicateurs_cles.md\"\n",
    "    ],\n",
    "    \"02_Analyse_bilan\": [\n",
    "        \"01_SIG.md\",\n",
    "        \"02_ratios_cles.md\",\n",
    "        \"03_structure_financiere.md\"\n",
    "    ],\n",
    "    \"03_Cas_pratiques\": [\n",
    "        \"01_analyse_fournisseur_X.md\",\n",
    "        \"02_etude_sectorielle.md\"\n",
    "    ],\n",
    "    \"04_Ressources\": [\n",
    "        \"liens_utiles.md\",\n",
    "        \"bibliographie.md\"\n",
    "    ]\n",
    "}\n",
    "\n",
    "# Création de la structure\n",
    "os.makedirs(root, exist_ok=True)\n",
    "\n",
    "for dossier, fichiers in structure.items():\n",
    "    dossier_path = os.path.join(root, dossier)\n",
    "    os.makedirs(dossier_path, exist_ok=True)\n",
    "    for fichier in fichiers:\n",
    "        fichier_path = os.path.join(dossier_path, fichier)\n",
    "        if not os.path.exists(fichier_path):\n",
    "            with open(fichier_path, \"w\", encoding=\"utf-8\") as f:\n",
    "                titre = fichier.replace(\"_\", \" \").replace(\".md\", \"\").capitalize()\n",
    "                f.write(f\"# {titre}\\n\\n_(à compléter)_\\n\")\n",
    "\n",
    "# Création du README principal\n",
    "readme_path = os.path.join(root, \"README.md\")\n",
    "if not os.path.exists(readme_path):\n",
    "    with open(readme_path, \"w\", encoding=\"utf-8\") as f:\n",
    "        f.write(\"# Tutoriels d'analyse financière des fournisseurs\\n\\n\")\n",
    "        f.write(\"Ce projet propose une série de cours structurés autour de l'analyse financière des fournisseurs.\\n\\n\")\n",
    "        f.write(\"## Structure du cours\\n\\n\")\n",
    "        for dossier in structure:\n",
    "            f.write(f\"- [{dossier.replace('_', ' ')}](./{dossier}/)\\n\")\n",
    "\n",
    "print(\"Structure créée avec succès ✅\")\n"
   ]
  }
 ],
 "metadata": {
  "kernelspec": {
   "display_name": "Python 3 (ipykernel)",
   "language": "python",
   "name": "python3"
  },
  "language_info": {
   "codemirror_mode": {
    "name": "ipython",
    "version": 3
   },
   "file_extension": ".py",
   "mimetype": "text/x-python",
   "name": "python",
   "nbconvert_exporter": "python",
   "pygments_lexer": "ipython3",
   "version": "3.12.3"
  }
 },
 "nbformat": 4,
 "nbformat_minor": 5
}
